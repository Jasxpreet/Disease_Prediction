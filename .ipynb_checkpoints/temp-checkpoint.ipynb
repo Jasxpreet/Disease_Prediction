{
 "cells": [
  {
   "cell_type": "markdown",
   "metadata": {},
   "source": [
    "# Importing required libraries"
   ]
  },
  {
   "cell_type": "code",
   "execution_count": 1,
   "metadata": {
    "execution": {
     "iopub.execute_input": "2022-04-27T15:11:14.356534Z",
     "iopub.status.busy": "2022-04-27T15:11:14.356145Z",
     "iopub.status.idle": "2022-04-27T15:11:15.607509Z",
     "shell.execute_reply": "2022-04-27T15:11:15.606395Z",
     "shell.execute_reply.started": "2022-04-27T15:11:14.356439Z"
    }
   },
   "outputs": [],
   "source": [
    "import pandas as pd\n",
    "import numpy as np\n",
    "from sklearn.tree import DecisionTreeClassifier\n",
    "from sklearn.metrics import classification_report,accuracy_score\n",
    "from sklearn.metrics import mean_absolute_error\n",
    "from sklearn.model_selection import train_test_split"
   ]
  },
  {
   "cell_type": "markdown",
   "metadata": {},
   "source": [
    "# Fetching data"
   ]
  },
  {
   "cell_type": "code",
   "execution_count": null,
   "metadata": {
    "execution": {
     "iopub.execute_input": "2022-04-27T15:11:18.029367Z",
     "iopub.status.busy": "2022-04-27T15:11:18.02883Z",
     "iopub.status.idle": "2022-04-27T15:11:18.413994Z",
     "shell.execute_reply": "2022-04-27T15:11:18.413046Z",
     "shell.execute_reply.started": "2022-04-27T15:11:18.029319Z"
    }
   },
   "outputs": [],
   "source": [
    "df = pd.read_csv(\"Dataset\\Training.csv\")\n",
    "df.describe()"
   ]
  },
  {
   "cell_type": "code",
   "execution_count": null,
   "metadata": {
    "execution": {
     "iopub.execute_input": "2022-04-27T15:11:21.218695Z",
     "iopub.status.busy": "2022-04-27T15:11:21.218401Z",
     "iopub.status.idle": "2022-04-27T15:11:21.225904Z",
     "shell.execute_reply": "2022-04-27T15:11:21.225044Z",
     "shell.execute_reply.started": "2022-04-27T15:11:21.218662Z"
    }
   },
   "outputs": [],
   "source": [
    "df.shape"
   ]
  },
  {
   "cell_type": "code",
   "execution_count": null,
   "metadata": {
    "execution": {
     "iopub.execute_input": "2022-04-27T15:11:23.544677Z",
     "iopub.status.busy": "2022-04-27T15:11:23.544242Z",
     "iopub.status.idle": "2022-04-27T15:11:23.555407Z",
     "shell.execute_reply": "2022-04-27T15:11:23.554491Z",
     "shell.execute_reply.started": "2022-04-27T15:11:23.544644Z"
    },
    "scrolled": true
   },
   "outputs": [],
   "source": [
    "df.drop('Unnamed: 133', axis=1, inplace=True)\n",
    "df.columns"
   ]
  },
  {
   "cell_type": "code",
   "execution_count": null,
   "metadata": {
    "execution": {
     "iopub.execute_input": "2022-04-27T15:11:43.39143Z",
     "iopub.status.busy": "2022-04-27T15:11:43.391131Z",
     "iopub.status.idle": "2022-04-27T15:11:43.399428Z",
     "shell.execute_reply": "2022-04-27T15:11:43.398786Z",
     "shell.execute_reply.started": "2022-04-27T15:11:43.3914Z"
    }
   },
   "outputs": [],
   "source": [
    "df['prognosis'].value_counts()"
   ]
  },
  {
   "cell_type": "markdown",
   "metadata": {},
   "source": [
    "## let's split the data for training"
   ]
  },
  {
   "cell_type": "code",
   "execution_count": null,
   "metadata": {
    "execution": {
     "iopub.execute_input": "2022-04-27T15:16:50.149145Z",
     "iopub.status.busy": "2022-04-27T15:16:50.148822Z",
     "iopub.status.idle": "2022-04-27T15:16:50.166757Z",
     "shell.execute_reply": "2022-04-27T15:16:50.166102Z",
     "shell.execute_reply.started": "2022-04-27T15:16:50.14911Z"
    }
   },
   "outputs": [],
   "source": [
    "x = df.drop('prognosis', axis = 1)\n",
    "y = df['prognosis']\n",
    "x_train, x_test, y_train, y_test = train_test_split(x, y, test_size=0.3, random_state=42) "
   ]
  },
  {
   "cell_type": "markdown",
   "metadata": {},
   "source": [
    "## Let's train our model "
   ]
  },
  {
   "cell_type": "code",
   "execution_count": null,
   "metadata": {
    "execution": {
     "iopub.execute_input": "2022-04-27T15:16:53.193246Z",
     "iopub.status.busy": "2022-04-27T15:16:53.19276Z",
     "iopub.status.idle": "2022-04-27T15:16:53.197235Z",
     "shell.execute_reply": "2022-04-27T15:16:53.196266Z",
     "shell.execute_reply.started": "2022-04-27T15:16:53.193177Z"
    }
   },
   "outputs": [],
   "source": [
    "tree = DecisionTreeClassifier()"
   ]
  },
  {
   "cell_type": "code",
   "execution_count": null,
   "metadata": {
    "execution": {
     "iopub.execute_input": "2022-04-27T15:16:55.481681Z",
     "iopub.status.busy": "2022-04-27T15:16:55.481387Z",
     "iopub.status.idle": "2022-04-27T15:16:55.538609Z",
     "shell.execute_reply": "2022-04-27T15:16:55.537852Z",
     "shell.execute_reply.started": "2022-04-27T15:16:55.481646Z"
    }
   },
   "outputs": [],
   "source": [
    "tree.fit(x_train, y_train)"
   ]
  },
  {
   "cell_type": "code",
   "execution_count": null,
   "metadata": {
    "execution": {
     "iopub.execute_input": "2022-04-27T15:17:39.869833Z",
     "iopub.status.busy": "2022-04-27T15:17:39.869549Z",
     "iopub.status.idle": "2022-04-27T15:17:39.888812Z",
     "shell.execute_reply": "2022-04-27T15:17:39.887979Z",
     "shell.execute_reply.started": "2022-04-27T15:17:39.869805Z"
    }
   },
   "outputs": [],
   "source": [
    "pred = tree.predict(x_test)\n",
    "acc = tree.score(x_test, y_test)\n",
    "\n",
    "print(\"Acurray on test set: {:.2f}%\".format(acc*100))\n"
   ]
  },
  {
   "cell_type": "code",
   "execution_count": null,
   "metadata": {
    "execution": {
     "iopub.execute_input": "2022-04-27T15:27:07.041173Z",
     "iopub.status.busy": "2022-04-27T15:27:07.040601Z",
     "iopub.status.idle": "2022-04-27T15:27:07.056431Z",
     "shell.execute_reply": "2022-04-27T15:27:07.055637Z",
     "shell.execute_reply.started": "2022-04-27T15:27:07.041128Z"
    }
   },
   "outputs": [],
   "source": [
    "fi = pd.DataFrame(tree.feature_importances_*100, x_test.columns, columns=['Importance'])\n",
    "fi.sort_values(by='Importance',ascending=False, inplace=True)\n",
    "fi"
   ]
  },
  {
   "cell_type": "code",
   "execution_count": null,
   "metadata": {
    "execution": {
     "iopub.execute_input": "2022-04-27T15:27:16.259043Z",
     "iopub.status.busy": "2022-04-27T15:27:16.258342Z",
     "iopub.status.idle": "2022-04-27T15:27:16.266952Z",
     "shell.execute_reply": "2022-04-27T15:27:16.266149Z",
     "shell.execute_reply.started": "2022-04-27T15:27:16.258993Z"
    }
   },
   "outputs": [],
   "source": [
    "zeros = np.array(fi[fi['Importance'] <= 2.300000].index)\n",
    "zeros"
   ]
  },
  {
   "cell_type": "code",
   "execution_count": null,
   "metadata": {
    "execution": {
     "iopub.execute_input": "2022-04-27T15:27:20.987668Z",
     "iopub.status.busy": "2022-04-27T15:27:20.987094Z",
     "iopub.status.idle": "2022-04-27T15:27:20.994764Z",
     "shell.execute_reply": "2022-04-27T15:27:20.994249Z",
     "shell.execute_reply.started": "2022-04-27T15:27:20.987632Z"
    }
   },
   "outputs": [],
   "source": [
    "training_new = df.drop(columns=zeros, axis=1)\n",
    "training_new.shape[1]\n",
    "training_new.columns"
   ]
  },
  {
   "cell_type": "code",
   "execution_count": null,
   "metadata": {
    "execution": {
     "iopub.execute_input": "2022-04-27T15:27:25.079404Z",
     "iopub.status.busy": "2022-04-27T15:27:25.078771Z",
     "iopub.status.idle": "2022-04-27T15:27:25.085488Z",
     "shell.execute_reply": "2022-04-27T15:27:25.084603Z",
     "shell.execute_reply.started": "2022-04-27T15:27:25.079363Z"
    }
   },
   "outputs": [],
   "source": [
    "def modelling(df1):\n",
    "    x_new = df1.drop('prognosis', axis = 1)\n",
    "    y_new = df1.prognosis\n",
    "    x_train_new, x_test_new, y_train_new, y_test_new = train_test_split(x_new, y_new, test_size=0.3, random_state=42) \n",
    "    tree.fit(x_train_new, y_train_new)\n",
    "    \n",
    "    pred_new = tree.predict(x_test_new)\n",
    "    \n",
    "    acc_new = tree.score(x_test_new, y_test_new)\n",
    "#     a = mean_absolute_error(y_test_new, pred_new)\n",
    "    print(\"Acurray on test set: {:.2f}%\".format(acc*100))\n",
    "#     print(\"mean_absolute_error of the test set: {:.2f}%\".format(a))"
   ]
  },
  {
   "cell_type": "code",
   "execution_count": null,
   "metadata": {
    "execution": {
     "iopub.execute_input": "2022-04-27T15:27:30.436659Z",
     "iopub.status.busy": "2022-04-27T15:27:30.435805Z",
     "iopub.status.idle": "2022-04-27T15:27:30.463874Z",
     "shell.execute_reply": "2022-04-27T15:27:30.463023Z",
     "shell.execute_reply.started": "2022-04-27T15:27:30.436617Z"
    }
   },
   "outputs": [],
   "source": [
    "test = pd.read_csv(\"../input/disease-prediction-using-machine-learning/Testing.csv\")\n",
    "test_new = test.drop(columns=zeros, axis=1)\n",
    "test_new.shape[1]"
   ]
  },
  {
   "cell_type": "code",
   "execution_count": null,
   "metadata": {
    "execution": {
     "iopub.execute_input": "2022-04-27T15:27:33.222823Z",
     "iopub.status.busy": "2022-04-27T15:27:33.222471Z",
     "iopub.status.idle": "2022-04-27T15:27:33.236693Z",
     "shell.execute_reply": "2022-04-27T15:27:33.235706Z",
     "shell.execute_reply.started": "2022-04-27T15:27:33.222791Z"
    }
   },
   "outputs": [],
   "source": [
    "modelling(test_new)"
   ]
  }
 ],
 "metadata": {
  "kernelspec": {
   "display_name": "Python 3 (ipykernel)",
   "language": "python",
   "name": "python3"
  },
  "language_info": {
   "codemirror_mode": {
    "name": "ipython",
    "version": 3
   },
   "file_extension": ".py",
   "mimetype": "text/x-python",
   "name": "python",
   "nbconvert_exporter": "python",
   "pygments_lexer": "ipython3",
   "version": "3.9.13"
  }
 },
 "nbformat": 4,
 "nbformat_minor": 4
}
